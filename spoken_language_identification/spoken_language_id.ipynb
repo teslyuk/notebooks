{
 "cells": [
  {
   "cell_type": "markdown",
   "id": "d5c930e8",
   "metadata": {},
   "source": [
    "### Dataset\n",
    "\n",
    "http://bark.phon.ioc.ee/voxlingua107/\n",
    "\n",
    "### Model and toolkit\n",
    "\n",
    "Architecture: https://arxiv.org/pdf/2005.07143.pdf\n",
    "\n",
    "Toolkit: https://speechbrain.github.io\n",
    "\n",
    "### HuggingFace reference\n",
    "\n",
    "https://huggingface.co/speechbrain/lang-id-voxlingua107-ecapa\n",
    "\n",
    "### Additional info\n",
    "\n",
    "More specific language id task dataset, but for text: https://huggingface.co/datasets/papluca/language-identification#additional-information"
   ]
  },
  {
   "cell_type": "code",
   "execution_count": 110,
   "id": "438af321",
   "metadata": {},
   "outputs": [],
   "source": [
    "import torchaudio\n",
    "from speechbrain.pretrained import EncoderClassifier\n",
    "from typing import List, Tuple, Dict\n",
    "import numpy as np\n",
    "import torch"
   ]
  },
  {
   "cell_type": "code",
   "execution_count": 99,
   "id": "9114c702",
   "metadata": {},
   "outputs": [],
   "source": [
    "# add run_opts={\"device\":\"cuda\"} parameter to run on CUDA\n",
    "\n",
    "model = EncoderClassifier.from_hparams(source=\"speechbrain/lang-id-voxlingua107-ecapa\", savedir=\"ckpt\")"
   ]
  },
  {
   "cell_type": "code",
   "execution_count": 100,
   "id": "2b411bf4",
   "metadata": {},
   "outputs": [],
   "source": [
    "import os\n",
    "\n",
    "DATA_DIR = 'data'\n",
    "\n",
    "wav_filenames = [file for file in os.listdir(DATA_DIR) if file.endswith('.wav')]"
   ]
  },
  {
   "cell_type": "code",
   "execution_count": 101,
   "id": "c39f2298",
   "metadata": {},
   "outputs": [
    {
     "name": "stdout",
     "output_type": "stream",
     "text": [
      "['jamie_Korean.wav', 'anders_English.wav', 'kazka_Ukrainian.wav', 'kleine_Dutch.wav', 'reezy_German.wav', 'by-india_Russian.wav', 'speech_Russian.wav', 'stromae_French.wav', 'miki_Japanese.wav', 'disfruto_Spanish.wav']\n"
     ]
    }
   ],
   "source": [
    "print(wav_filenames)"
   ]
  },
  {
   "cell_type": "code",
   "execution_count": 102,
   "id": "1fb80027",
   "metadata": {},
   "outputs": [],
   "source": [
    "with open('labels.txt', 'r') as f:\n",
    "    labels = [line.strip() for line in f.readlines()]\n",
    "    \n",
    "# the first label is 'multilingual', model wasn't pretrained on that class\n",
    "labels = labels[1:]"
   ]
  },
  {
   "cell_type": "code",
   "execution_count": 105,
   "id": "06e4ee23",
   "metadata": {},
   "outputs": [],
   "source": [
    "import librosa\n",
    "import librosa.display\n",
    "import matplotlib.pyplot as plt\n",
    "\n",
    "def plot_mel_spectrogram(wav_file_path: str):\n",
    "  y, sr = librosa.load(wav_file_path, sr=None)\n",
    "\n",
    "  S = librosa.feature.melspectrogram(y=y, sr=sr, n_mels=128)\n",
    "\n",
    "  log_S = librosa.power_to_db(S, ref=np.max)\n",
    "\n",
    "  plt.figure(figsize=(10, 4))\n",
    "  librosa.display.specshow(log_S, sr=sr, x_axis='time', y_axis='mel', cmap='coolwarm')\n",
    "  plt.title('Mel spectrogram')\n",
    "  plt.colorbar(format='%+02.0f dB')\n",
    "  plt.tight_layout()\n",
    "  plt.show()\n",
    "\n",
    "def get_ground_truth_labels(wav_names: List[str]):\n",
    "  annotated_data = []\n",
    "  for wav_name in wav_names:\n",
    "    name_to_gt = {}\n",
    "    gt = wav_name.split('_')[1].split('.')[0]\n",
    "    \n",
    "    name_to_gt['filename'] = wav_name\n",
    "    name_to_gt['label'] = gt\n",
    "    \n",
    "    annotated_data.append(name_to_gt)\n",
    "  return annotated_data\n",
    "\n",
    "def make_top_5_prediction_from_sample(samples: List[str]):\n",
    "  preds = []\n",
    "  for sample in samples:\n",
    "    name_to_pred = {}\n",
    "    \n",
    "    wav = model.load_audio(f\"data/{sample}\")\n",
    "    prediction = model.classify_batch(wav)\n",
    "    \n",
    "    log_likelihoods = prediction[0].squeeze()\n",
    "    top_5_idc = torch.argsort(log_likelihoods, descending=True)[:5]\n",
    "    top_5_preds = [labels[ix] for ix in top_5_idc]\n",
    "    \n",
    "    name_to_pred[\"filename\"] = sample\n",
    "    name_to_pred[\"prediction\"] = top_5_preds\n",
    "    \n",
    "    preds.append(name_to_pred)\n",
    "  return preds"
   ]
  },
  {
   "cell_type": "code",
   "execution_count": 106,
   "id": "1fcecc64",
   "metadata": {},
   "outputs": [],
   "source": [
    "wavname_to_gt = get_ground_truth_labels(wav_filenames)"
   ]
  },
  {
   "cell_type": "code",
   "execution_count": 107,
   "id": "d1d5f946",
   "metadata": {},
   "outputs": [
    {
     "data": {
      "text/plain": [
       "[{'filename': 'jamie_Korean.wav', 'label': 'Korean'},\n",
       " {'filename': 'anders_English.wav', 'label': 'English'},\n",
       " {'filename': 'kazka_Ukrainian.wav', 'label': 'Ukrainian'},\n",
       " {'filename': 'kleine_Dutch.wav', 'label': 'Dutch'},\n",
       " {'filename': 'reezy_German.wav', 'label': 'German'},\n",
       " {'filename': 'by-india_Russian.wav', 'label': 'Russian'},\n",
       " {'filename': 'speech_Russian.wav', 'label': 'Russian'},\n",
       " {'filename': 'stromae_French.wav', 'label': 'French'},\n",
       " {'filename': 'miki_Japanese.wav', 'label': 'Japanese'},\n",
       " {'filename': 'disfruto_Spanish.wav', 'label': 'Spanish'}]"
      ]
     },
     "execution_count": 107,
     "metadata": {},
     "output_type": "execute_result"
    }
   ],
   "source": [
    "wavname_to_gt"
   ]
  },
  {
   "cell_type": "code",
   "execution_count": 108,
   "id": "56a6f9a3",
   "metadata": {},
   "outputs": [],
   "source": [
    "preds = make_top_5_prediction_from_sample(wav_filenames)"
   ]
  },
  {
   "cell_type": "code",
   "execution_count": 109,
   "id": "7a55b467",
   "metadata": {},
   "outputs": [
    {
     "data": {
      "text/plain": [
       "[{'filename': 'jamie_Korean.wav',\n",
       "  'prediction': ['Sanskrit', 'Tatar', 'Vietnamese', 'Tibetan', 'Polish']},\n",
       " {'filename': 'anders_English.wav',\n",
       "  'prediction': ['Lithuanian',\n",
       "   'Esperanto',\n",
       "   'Burmese',\n",
       "   'Hungarian',\n",
       "   'Portuguese']},\n",
       " {'filename': 'kazka_Ukrainian.wav',\n",
       "  'prediction': ['Portuguese', 'Sanskrit', 'Ukrainian', 'Russian', 'Bislama']},\n",
       " {'filename': 'kleine_Dutch.wav',\n",
       "  'prediction': ['Dutch', 'Icelandic', 'Danish', 'English', 'Hungarian']},\n",
       " {'filename': 'reezy_German.wav',\n",
       "  'prediction': ['Luxembourgish', 'Macedonian', 'German', 'Yiddish', 'Dutch']},\n",
       " {'filename': 'by-india_Russian.wav',\n",
       "  'prediction': ['Romanian', 'Turkish', 'Polish', 'Russian', 'Ukrainian']},\n",
       " {'filename': 'speech_Russian.wav',\n",
       "  'prediction': ['Russian',\n",
       "   'Belarusian',\n",
       "   'Ukrainian',\n",
       "   'Slovak',\n",
       "   'Lithuanian']},\n",
       " {'filename': 'stromae_French.wav',\n",
       "  'prediction': ['French', 'Ukrainian', 'Tatar', 'Haitian', 'Norwegian']},\n",
       " {'filename': 'miki_Japanese.wav',\n",
       "  'prediction': ['Burmese', 'Tatar', 'Bislama', 'Vietnamese', 'Chinese']},\n",
       " {'filename': 'disfruto_Spanish.wav',\n",
       "  'prediction': ['Icelandic',\n",
       "   'Faroese',\n",
       "   'Norwegian Nynorsk',\n",
       "   'Italian',\n",
       "   'Swedish']}]"
      ]
     },
     "execution_count": 109,
     "metadata": {},
     "output_type": "execute_result"
    }
   ],
   "source": [
    "preds"
   ]
  },
  {
   "cell_type": "code",
   "execution_count": null,
   "id": "bdff112f",
   "metadata": {},
   "outputs": [],
   "source": [
    "plot_mel_spectrogram(f'data/{wav_files[0]}')"
   ]
  }
 ],
 "metadata": {
  "kernelspec": {
   "display_name": "venv39",
   "language": "python",
   "name": "venv39"
  },
  "language_info": {
   "codemirror_mode": {
    "name": "ipython",
    "version": 3
   },
   "file_extension": ".py",
   "mimetype": "text/x-python",
   "name": "python",
   "nbconvert_exporter": "python",
   "pygments_lexer": "ipython3",
   "version": "3.9.16"
  }
 },
 "nbformat": 4,
 "nbformat_minor": 5
}
